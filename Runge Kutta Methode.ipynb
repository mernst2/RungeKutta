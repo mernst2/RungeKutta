{
 "cells": [
  {
   "cell_type": "code",
   "execution_count": 22,
   "metadata": {},
   "outputs": [],
   "source": [
    "import numpy as np \n",
    "import matplotlib.pyplot as plt"
   ]
  },
  {
   "cell_type": "code",
   "execution_count": 23,
   "metadata": {},
   "outputs": [],
   "source": [
    "beta=0.4\n",
    "gamma=0.04\n",
    "\n",
    "#Definitiionen der einzelnen Funktionen\n",
    "\n",
    "def dSdt(t, S, I):\n",
    "    return(-beta * S * I / N)\n",
    "\n",
    "def dIdt(t, S, I):\n",
    "    return(beta * S * I / N - gamma * I)\n",
    "\n",
    "def dRdt(t, I):\n",
    "    return(gamma * I)"
   ]
  },
  {
   "cell_type": "code",
   "execution_count": 24,
   "metadata": {},
   "outputs": [],
   "source": [
    "#Initialisierung der Parameter\n",
    "\n",
    "N = 100\n",
    "I0, R0 = 1, 0\n",
    "S0 = N - I0 - R0\n",
    "vector0=S0, I0, R0\n",
    "t = np.linspace(0, 500, 500)\n",
    "t0=0\n",
    "h=0.5\n",
    "\n",
    "#Definition der Ableitungen als Vektor bzw. LGS\n",
    "#*args für beta, gamma, N\n",
    "def LGS(vector, t, *args):\n",
    "    S, I, R = vector\n",
    "    return dSdt, dIdt, dRdt"
   ]
  },
  {
   "cell_type": "code",
   "execution_count": 34,
   "metadata": {},
   "outputs": [],
   "source": [
    "#Definition der RungeKutta Funktion\n",
    "#Argumente(Funktion, Vektor, Zeitnullpunkt, Schrittweite, Länge der Zeit, beta, gamma, N)\n",
    "def rungekutta(f,xj,tj,h,n,*args):\n",
    "    for i in range(n):\n",
    "        k1 =(f(tj, xj))\n",
    "        k2 =(f((tj+h/2), (xj+k1/2)))\n",
    "        k3 =(f((tj+h/2), (xj+k2/2)))\n",
    "        k4 =(f((tj+h), (xj+k3)))\n",
    "        k = h*(k1+2*k2+2*k3+k4)/6\n",
    "       \n",
    "        #Neue Vektorwerte (X-Werte)\n",
    "        vectorn = xj + k\n",
    "        xj = vectorn\n",
    "        #Neuer Zeitwert\n",
    "        tj = tj+h\n",
    "        #Rückgabe der neuen Vektorwerte\n",
    "        return vectorn"
   ]
  },
  {
   "cell_type": "code",
   "execution_count": 36,
   "metadata": {},
   "outputs": [
    {
     "ename": "SyntaxError",
     "evalue": "invalid syntax (<ipython-input-36-090c9e84dc0d>, line 1)",
     "output_type": "error",
     "traceback": [
      "\u001b[1;36m  File \u001b[1;32m\"<ipython-input-36-090c9e84dc0d>\"\u001b[1;36m, line \u001b[1;32m1\u001b[0m\n\u001b[1;33m    rungekutta(LGS,vector0,t0,h,len(t),*args=(N, beta, gamma))\u001b[0m\n\u001b[1;37m                                            ^\u001b[0m\n\u001b[1;31mSyntaxError\u001b[0m\u001b[1;31m:\u001b[0m invalid syntax\n"
     ]
    }
   ],
   "source": [
    "rungekutta(LGS,vector0,t0,h,len(t),*args=(N, beta, gamma))\n",
    "#Ausführen der FUnktion funktioniert nicht, da Fehler in den Argumenten?\n"
   ]
  }
 ],
 "metadata": {
  "kernelspec": {
   "display_name": "Python 3",
   "language": "python",
   "name": "python3"
  },
  "language_info": {
   "codemirror_mode": {
    "name": "ipython",
    "version": 3
   },
   "file_extension": ".py",
   "mimetype": "text/x-python",
   "name": "python",
   "nbconvert_exporter": "python",
   "pygments_lexer": "ipython3",
   "version": "3.7.6"
  }
 },
 "nbformat": 4,
 "nbformat_minor": 4
}
