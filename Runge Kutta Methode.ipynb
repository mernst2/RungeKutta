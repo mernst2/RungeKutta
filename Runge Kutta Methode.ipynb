import numpy as np 
import matplotlib.pyplot as plt

beta=0.4
gamma=0.04
N = 100
#Definitiionen der einzelnen Funktionen

def dSdt(t, S, I):
    return(-beta * S * I / N)

def dIdt(t, S, I):
    return(beta * S * I / N - gamma * I)

def dRdt(t, I):
    return(gamma * I)

#Initialisierung der Parameter
h=0.5
t = np.arange(0, 500, h)


LGS=([dSdt, dIdt, dRdt])
S=np.zeros(len(t))
I=np.zeros(len(t))
R=np.zeros(len(t))

I[0] = 3
S[0] = 997
R[0] = 0


    

#Definition der RungeKutta Funktion
#Argumente(Funktion, Vektor, Zeitnullpunkt, Schrittweite, Länge der Zeit, beta, gamma, N)
def rungekutta(f,x,t,h,n):
    for i in range(n):
        k1 =f(t[i], x[i])
        k2 =f((t[i]+h/2), (x[i]+k1*(h/2)))
        k3 =f((t[i]+h/2), (x[i]+k2*(h/2)))
        k4 =f((t[i]+h), (x[i]+h*k3))
        k = h*(k1+2*k2+2*k3+k4)/6
       
        #Neue Vektorwerte (X-Werte)
        x[i+1] = x[i] + k
       # LGS[i+1] = x[i+1]
        #Neuer Zeitwert
        #t[i] = t[i]+h
        #Rückgabe der neuen Vektorwerte


rungekutta(LGS[0],S[0],t,h,len(t))
#Ausführen der FUnktion funktioniert nicht, da Fehler in den Argumenten?

